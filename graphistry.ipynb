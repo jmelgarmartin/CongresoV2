{
 "cells": [
  {
   "cell_type": "code",
   "execution_count": 2,
   "id": "771c1cb1",
   "metadata": {},
   "outputs": [
    {
     "name": "stdout",
     "output_type": "stream",
     "text": [
      "neo4j 5.5.0\n",
      "graphistry 0.28.7\n"
     ]
    }
   ],
   "source": [
    "import pandas as pd\n",
    "import neo4j # just for testing\n",
    "from neo4j import GraphDatabase # for data loader\n",
    "import graphistry\n",
    "print('neo4j', neo4j.__version__)\n",
    "print('graphistry', graphistry.__version__)"
   ]
  },
  {
   "cell_type": "code",
   "execution_count": 12,
   "id": "dfa6eeb6",
   "metadata": {},
   "outputs": [],
   "source": [
    "NEO4J = {\n",
    "    'uri': \"bolt://localhost:7687\", \n",
    "    'auth': (\"neo4j\", \"congreso\")\n",
    "}"
   ]
  },
  {
   "cell_type": "code",
   "execution_count": 13,
   "id": "be7e147e",
   "metadata": {},
   "outputs": [],
   "source": [
    "graphistry.register(protocol='https', server='hub.graphistry.com')\n",
    "graphistry.register(api=3, personal_key_id='0I2DXM2572', personal_key_secret='9C8G67W01FUL78ZQ')\n",
    "graphistry.register(bolt=NEO4J)"
   ]
  },
  {
   "cell_type": "code",
   "execution_count": 18,
   "id": "cb3d94ab",
   "metadata": {},
   "outputs": [
    {
     "name": "stderr",
     "output_type": "stream",
     "text": [
      "C:\\Users\\jmelgar\\AppData\\Roaming\\Python\\Python39\\site-packages\\graphistry\\util.py:249: RuntimeWarning: Query returned no edges; may have surprising visual results or need to add missing columns for encodings\n",
      "  warnings.warn(RuntimeWarning(msg))\n",
      "C:\\Users\\jmelgar\\AppData\\Roaming\\Python\\Python39\\site-packages\\graphistry\\util.py:249: RuntimeWarning: Query returned no nodes\n",
      "  warnings.warn(RuntimeWarning(msg))\n"
     ]
    }
   ],
   "source": [
    "g = graphistry.cypher(\"\"\"\n",
    "      MATCH p=(a)-[r:DICE]->(b) WHERE r.USD > 7000 AND r.USD < 10000  RETURN p LIMIT 10\n",
    "  \"\"\")"
   ]
  },
  {
   "cell_type": "code",
   "execution_count": 19,
   "id": "95dccb88",
   "metadata": {},
   "outputs": [
    {
     "name": "stderr",
     "output_type": "stream",
     "text": [
      "C:\\Users\\jmelgar\\AppData\\Roaming\\Python\\Python39\\site-packages\\graphistry\\util.py:249: RuntimeWarning: Graph has no edges, may have rendering issues\n",
      "  warnings.warn(RuntimeWarning(msg))\n"
     ]
    },
    {
     "data": {
      "text/html": [
       "\n",
       "            <iframe id=\"f60f7c9d-3113-4946-979b-07f3a494ec5a\" src=\"https://hub.graphistry.com/graph/graph.html?dataset=4b5b29feee9347e6bbc8cad304a1b481&type=arrow&viztoken=18c09699-a3ea-4ef0-9eba-344551e27cd0&usertag=1e5a5376-pygraphistry-0.28.7&splashAfter=1675282121&info=true\"\n",
       "                    allowfullscreen=\"true\" webkitallowfullscreen=\"true\" mozallowfullscreen=\"true\"\n",
       "                    oallowfullscreen=\"true\" msallowfullscreen=\"true\"\n",
       "                    style=\"width:100%; height:500px; border: 1px solid #DDD; overflow: hidden\"\n",
       "                    \n",
       "            >\n",
       "            </iframe>\n",
       "        \n",
       "            <script>\n",
       "                try {\n",
       "                  $(\"#f60f7c9d-3113-4946-979b-07f3a494ec5a\").bind('mousewheel', function(e) { e.preventDefault(); });\n",
       "                } catch (e) { console.error('exn catching scroll', e); }\n",
       "            </script>\n",
       "        "
      ],
      "text/plain": [
       "<IPython.core.display.HTML object>"
      ]
     },
     "execution_count": 19,
     "metadata": {},
     "output_type": "execute_result"
    }
   ],
   "source": [
    "g.plot()"
   ]
  },
  {
   "cell_type": "code",
   "execution_count": null,
   "id": "256e73e8",
   "metadata": {},
   "outputs": [],
   "source": []
  }
 ],
 "metadata": {
  "kernelspec": {
   "display_name": "Python 3 (ipykernel)",
   "language": "python",
   "name": "python3"
  },
  "language_info": {
   "codemirror_mode": {
    "name": "ipython",
    "version": 3
   },
   "file_extension": ".py",
   "mimetype": "text/x-python",
   "name": "python",
   "nbconvert_exporter": "python",
   "pygments_lexer": "ipython3",
   "version": "3.9.15"
  }
 },
 "nbformat": 4,
 "nbformat_minor": 5
}
